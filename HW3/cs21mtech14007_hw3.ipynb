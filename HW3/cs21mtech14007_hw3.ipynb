{
  "nbformat": 4,
  "nbformat_minor": 0,
  "metadata": {
    "colab": {
      "name": "cs21mtech14007_hw3.ipynb",
      "provenance": [],
      "collapsed_sections": []
    },
    "kernelspec": {
      "name": "python3",
      "display_name": "Python 3"
    },
    "language_info": {
      "name": "python"
    }
  },
  "cells": [
    {
      "cell_type": "code",
      "execution_count": null,
      "metadata": {
        "id": "iHaZC2AtRfHx"
      },
      "outputs": [],
      "source": [
        "import numpy as np\n",
        "from numpy import random\n",
        "import matplotlib.pyplot as plt\n",
        "from math import exp\n",
        "from PIL import Image"
      ]
    },
    {
      "cell_type": "markdown",
      "source": [
        "#Convolution function:"
      ],
      "metadata": {
        "id": "RtN7s_-2Q-_a"
      }
    },
    {
      "cell_type": "markdown",
      "source": [
        "It accepts as input an image, a filter kernel, stride, padding and the non-\n",
        "linear function. The function must convolve the input image (after padding if specified) with the \n",
        "kernel (at the specified stride size) and generate an output activation after applying the specified\n",
        "non-linearity. Verify with the standard options for the non-linear activation functions - sigmoid,\n",
        "tanh, ReLU, Parametric ReLU (PReLU). Display the input image, the filter kernel and the output\n",
        "activation map. Ensure that your function can accept multi-channel input and a corresponding kernel\n",
        "volume."
      ],
      "metadata": {
        "id": "Uq85mhjpRFUU"
      }
    },
    {
      "cell_type": "code",
      "source": [
        "def Padding(imgdata,v,h_p):\n",
        "  h,w=imgdata.shape\n",
        "  zeropad=np.zeros(h)\n",
        "  for i in range(v):\n",
        "     imgdata=np.insert(imgdata,0,values=zeropad,axis=1)\n",
        "     imgdata=np.insert(imgdata,w,values=zeropad,axis=1)\n",
        "  h,w=imgdata.shape   \n",
        "  zeropad=np.zeros(w)\n",
        "  for i in range(h_p):\n",
        "     imgdata=np.insert(imgdata,0,values=zeropad,axis=0)\n",
        "     imgdata=np.insert(imgdata,h,values=zeropad,axis=0)\n",
        "  return imgdata   "
      ],
      "metadata": {
        "id": "Ms_roN-U98r-"
      },
      "execution_count": null,
      "outputs": []
    },
    {
      "cell_type": "code",
      "execution_count": null,
      "metadata": {
        "id": "1W1PbnVgXhwt"
      },
      "outputs": [],
      "source": [
        "def getkernelfromImg(imgdata,k,l):\n",
        "  kernel=imgdata[0:k,0:l,:]\n",
        "  return kernel"
      ]
    },
    {
      "cell_type": "code",
      "source": [
        "def Rescale(img):\n",
        "  img= ((img - img.min()) * (1/(img.max() - img.min()) * 255)).astype('uint8')\n",
        "  return img"
      ],
      "metadata": {
        "id": "Lkk4iEyFYGHF"
      },
      "execution_count": null,
      "outputs": []
    },
    {
      "cell_type": "code",
      "source": [
        "def Flip180(kernel,h,w):\n",
        "  flippedkernel=kernel.copy()\n",
        "  for i in range(h%2):\n",
        "    flippedkernel[i,:],flippedkernel[h-i-1,:]=kernel[h-i-1,:],kernel[i,:]\n",
        "  k=flippedkernel.copy() \n",
        "  for i in range(w%2):\n",
        "    flippedkernel[:,i],flippedkernel[:,w-i-1]=k[:,w-i-1],k[:,i]\n",
        "  return flippedkernel "
      ],
      "metadata": {
        "id": "F9tt2N0XYlwt"
      },
      "execution_count": null,
      "outputs": []
    },
    {
      "cell_type": "code",
      "source": [
        "def Flip(kernel):\n",
        "  h,w,c=kernel.shape\n",
        "  flipk=kernel.copy()\n",
        "  for i in range(c):\n",
        "    flipk[:,:,i]= Flip180(kernel[:,:,i],h,w)\n",
        "  return flipk  "
      ],
      "metadata": {
        "id": "4wzfVV2UYH6w"
      },
      "execution_count": null,
      "outputs": []
    },
    {
      "cell_type": "code",
      "source": [
        "def ExtractCentralRegion(Img,w_org,h_org):\n",
        "  h,w,c=Img.shape\n",
        "  k_w=w-w_org\n",
        "  k_h=h-h_org\n",
        "  return Img[k_h:k_h+w_org,k_w:k_w+h_org,:]   "
      ],
      "metadata": {
        "id": "Ab9hNR0hkX0Z"
      },
      "execution_count": null,
      "outputs": []
    },
    {
      "cell_type": "code",
      "source": [
        "def ExtractImgPatch(img,i,j,k,l,stride):\n",
        "  if i!=0:\n",
        "    i=i+stride[0]-1\n",
        "  if j!=0:  \n",
        "    j=j+stride[1]-1  \n",
        "  img_patch=img[i:i+k,j:j+l]\n",
        "  return img_patch"
      ],
      "metadata": {
        "id": "TjD944lkgoNn"
      },
      "execution_count": null,
      "outputs": []
    },
    {
      "cell_type": "code",
      "source": [
        "def OperateByPatch(img,kernel,i,j,stride):\n",
        "    h,w=kernel.shape\n",
        "    img_p=ExtractImgPatch(img,i,j,h,w,stride)\n",
        "    return np.sum(np.multiply(img_p,kernel))"
      ],
      "metadata": {
        "id": "dAWWj49Yg6TT"
      },
      "execution_count": null,
      "outputs": []
    },
    {
      "cell_type": "code",
      "execution_count": null,
      "metadata": {
        "id": "gTkRwO-GQ5AB"
      },
      "outputs": [],
      "source": [
        "def Convolution(image,kernel,stride=[1,1],padding=[0,0],non_linear_fn='tanh',display=True):\n",
        "  if display:\n",
        "   print(\"Kernel\")\n",
        "   print(kernel)\n",
        "  k_h,k_w,c=kernel.shape\n",
        "  h,w,c=image.shape\n",
        "  kernel=Flip(kernel)\n",
        "  op_dim=[int((h-k_h+2*padding[0])/stride[0]+1),int((w-k_w+2*padding[1])/stride[1]+1),c]\n",
        "  channelwise_convolved_image=np.zeros(op_dim[0]*op_dim[1]*op_dim[2]).reshape(op_dim[0],op_dim[1],op_dim[2])\n",
        "  for ch in range(c):\n",
        "        reflectedimage=Padding(image[:,:,ch],padding[0],padding[1])\n",
        "        for i in range(op_dim[0]):\n",
        "            for j in range(op_dim[1]):\n",
        "              channelwise_convolved_image[i,j,ch]=OperateByPatch(reflectedimage,kernel[:,:,ch],i,j,stride)\n",
        "  convolved_image=np.sum(channelwise_convolved_image,axis=2)           \n",
        "  activation_map=ApplyActivationfn(Rescale(convolved_image),non_linear_fn)  \n",
        "  if display:          \n",
        "    print(\"Activation map\")\n",
        "    plt.imshow(activation_map)\n",
        "    plt.show()\n",
        "  return activation_map"
      ]
    },
    {
      "cell_type": "code",
      "source": [
        "def ApplyActivationfn(J,fname):\n",
        "  h,w=J.shape\n",
        "  activation_map=np.zeros(h*w).reshape(h,w)\n",
        "  for i in range(h):\n",
        "      for j in range(w):\n",
        "         activation_map[i,j]=Activationfn(J[i,j],fname)\n",
        "  return activation_map       "
      ],
      "metadata": {
        "id": "VfpvcUEH4zAd"
      },
      "execution_count": null,
      "outputs": []
    },
    {
      "cell_type": "code",
      "source": [
        "def Activationfn(x,fname='tanh',alpha=0.1):\n",
        "  if fname=='sigmoid':\n",
        "    op=1/(1+exp(-x))\n",
        "  if fname=='tanh':\n",
        "    op=(exp(x)-exp(-x))/(exp(x)+exp(-x)) \n",
        "  if fname=='relu':\n",
        "     if x>0:\n",
        "       op= x\n",
        "     else:\n",
        "       op= 0   \n",
        "  if fname=='prelu':\n",
        "     if x>0:\n",
        "       op= x\n",
        "     else:\n",
        "       op= alpha*x  \n",
        "  return op     "
      ],
      "metadata": {
        "id": "T5gZ0lai2Y3h"
      },
      "execution_count": null,
      "outputs": []
    },
    {
      "cell_type": "code",
      "execution_count": null,
      "metadata": {
        "id": "QtBYaOSdyPMI"
      },
      "outputs": [],
      "source": [
        "def ReadImage(imagename):\n",
        " image = Image.open(imagename)\n",
        " image_data=np.array(image)\n",
        " return image,image_data"
      ]
    },
    {
      "cell_type": "code",
      "source": [
        "image,image_data=ReadImage('airplane1.png')\n",
        "plt.imshow(image_data)\n",
        "k1=np.random.random((3,3,3))"
      ],
      "metadata": {
        "colab": {
          "base_uri": "https://localhost:8080/",
          "height": 266
        },
        "id": "b41r6Z6Rt4US",
        "outputId": "5ede06b4-1872-43a9-937d-423022d34dc1"
      },
      "execution_count": null,
      "outputs": [
        {
          "output_type": "display_data",
          "data": {
            "text/plain": [
              "<Figure size 432x288 with 1 Axes>"
            ],
            "image/png": "[encoded data removed]"
          },
          "metadata": {
            "needs_background": "light"
          }
        }
      ]
    },
    {
      "cell_type": "code",
      "source": [
        "activation_map=Convolution(image_data,k1,[3,3],[1,1],'sigmoid')"
      ],
      "metadata": {
        "colab": {
          "base_uri": "https://localhost:8080/",
          "height": 503
        },
        "id": "8Ssq0YuYAuiw",
        "outputId": "2db0e2c2-37f2-496d-96c7-6880ef9e1b77"
      },
      "execution_count": null,
      "outputs": [
        {
          "output_type": "stream",
          "name": "stdout",
          "text": [
            "Kernel\n",
            "[[[0.55891993 0.55374078 0.3983726 ]\n",
            "  [0.81576997 0.62270512 0.70363404]\n",
            "  [0.04274197 0.67383319 0.66013541]]\n",
            "\n",
            " [[0.01546542 0.07245119 0.17329013]\n",
            "  [0.63850852 0.84845392 0.63057624]\n",
            "  [0.27519026 0.77943842 0.44864816]]\n",
            "\n",
            " [[0.19513451 0.01083066 0.35109043]\n",
            "  [0.33712058 0.63358897 0.55469287]\n",
            "  [0.92138951 0.32003239 0.59228773]]]\n",
            "Activation map\n"
          ]
        },
        {
          "output_type": "display_data",
          "data": {
            "text/plain": [
              "<Figure size 432x288 with 1 Axes>"
            ],
            "image/png": "[encoded data removed]"
          },
          "metadata": {
            "needs_background": "light"
          }
        }
      ]
    },
    {
      "cell_type": "code",
      "source": [
        "activation_map=Convolution(image_data,k1,stride=[3,3],padding=[1,1],non_linear_fn='tanh')"
      ],
      "metadata": {
        "colab": {
          "base_uri": "https://localhost:8080/",
          "height": 503
        },
        "id": "h16mtfyvDHHB",
        "outputId": "c08e315c-7cd6-48f4-deab-78766193ac1d"
      },
      "execution_count": null,
      "outputs": [
        {
          "output_type": "stream",
          "name": "stdout",
          "text": [
            "Kernel\n",
            "[[[0.55891993 0.55374078 0.3983726 ]\n",
            "  [0.81576997 0.62270512 0.70363404]\n",
            "  [0.04274197 0.67383319 0.66013541]]\n",
            "\n",
            " [[0.01546542 0.07245119 0.17329013]\n",
            "  [0.63850852 0.84845392 0.63057624]\n",
            "  [0.27519026 0.77943842 0.44864816]]\n",
            "\n",
            " [[0.19513451 0.01083066 0.35109043]\n",
            "  [0.33712058 0.63358897 0.55469287]\n",
            "  [0.92138951 0.32003239 0.59228773]]]\n",
            "Activation map\n"
          ]
        },
        {
          "output_type": "display_data",
          "data": {
            "text/plain": [
              "<Figure size 432x288 with 1 Axes>"
            ],
            "image/png": "[encoded data removed]"
          },
          "metadata": {
            "needs_background": "light"
          }
        }
      ]
    },
    {
      "cell_type": "code",
      "source": [
        "activation_map=Convolution(image_data,k1,stride=[3,3],padding=[0,0],non_linear_fn='relu')"
      ],
      "metadata": {
        "colab": {
          "base_uri": "https://localhost:8080/",
          "height": 503
        },
        "id": "eDalnvF9DHa4",
        "outputId": "a0c7664e-4b86-4ed4-9317-bdc5e0d6f411"
      },
      "execution_count": null,
      "outputs": [
        {
          "output_type": "stream",
          "name": "stdout",
          "text": [
            "Kernel\n",
            "[[[0.55891993 0.55374078 0.3983726 ]\n",
            "  [0.81576997 0.62270512 0.70363404]\n",
            "  [0.04274197 0.67383319 0.66013541]]\n",
            "\n",
            " [[0.01546542 0.07245119 0.17329013]\n",
            "  [0.63850852 0.84845392 0.63057624]\n",
            "  [0.27519026 0.77943842 0.44864816]]\n",
            "\n",
            " [[0.19513451 0.01083066 0.35109043]\n",
            "  [0.33712058 0.63358897 0.55469287]\n",
            "  [0.92138951 0.32003239 0.59228773]]]\n",
            "Activation map\n"
          ]
        },
        {
          "output_type": "display_data",
          "data": {
            "text/plain": [
              "<Figure size 432x288 with 1 Axes>"
            ],
            "image/png": "[encoded data removed]"
          },
          "metadata": {
            "needs_background": "light"
          }
        }
      ]
    },
    {
      "cell_type": "code",
      "source": [
        "activation_map=Convolution(image_data,k1,stride=[3,3],padding=[0,0],non_linear_fn='prelu')"
      ],
      "metadata": {
        "colab": {
          "base_uri": "https://localhost:8080/",
          "height": 503
        },
        "id": "BFVgJEQeDIDB",
        "outputId": "a3b9238f-80ae-4292-8684-0ea6480ac92e"
      },
      "execution_count": null,
      "outputs": [
        {
          "output_type": "stream",
          "name": "stdout",
          "text": [
            "Kernel\n",
            "[[[0.55891993 0.55374078 0.3983726 ]\n",
            "  [0.81576997 0.62270512 0.70363404]\n",
            "  [0.04274197 0.67383319 0.66013541]]\n",
            "\n",
            " [[0.01546542 0.07245119 0.17329013]\n",
            "  [0.63850852 0.84845392 0.63057624]\n",
            "  [0.27519026 0.77943842 0.44864816]]\n",
            "\n",
            " [[0.19513451 0.01083066 0.35109043]\n",
            "  [0.33712058 0.63358897 0.55469287]\n",
            "  [0.92138951 0.32003239 0.59228773]]]\n",
            "Activation map\n"
          ]
        },
        {
          "output_type": "display_data",
          "data": {
            "text/plain": [
              "<Figure size 432x288 with 1 Axes>"
            ],
            "image/png": "[encoded data removed]"
          },
          "metadata": {
            "needs_background": "light"
          }
        }
      ]
    },
    {
      "cell_type": "markdown",
      "source": [
        "#Pooling function:"
      ],
      "metadata": {
        "id": "g1mYzUIMRKzV"
      }
    },
    {
      "cell_type": "markdown",
      "source": [
        "It accepts as input the activation map output from the convolution function, a\n",
        "pooling function, and stride. The function must output the appropriately pooled activation map.\n",
        "Display the input activation map and the pooled output. (2)"
      ],
      "metadata": {
        "id": "KqJaRg-wRRMk"
      }
    },
    {
      "cell_type": "code",
      "source": [
        "def Pool(activation_patch,pooling_fn):\n",
        "  if pooling_fn=='max':\n",
        "    return np.max(activation_patch)\n",
        "  if pooling_fn=='min':\n",
        "    return np.min(activation_patch)\n",
        "  if pooling_fn=='avg':\n",
        "    return np.average(activation_patch) "
      ],
      "metadata": {
        "id": "o3fkaNq8Jtrw"
      },
      "execution_count": null,
      "outputs": []
    },
    {
      "cell_type": "code",
      "source": [
        "def Pooling(activation_map,kernel_shape,stride,pooling_fn='max',display=True):\n",
        "  if display:\n",
        "   plt.imshow(activation_map)\n",
        "  h,w=activation_map.shape\n",
        "  op_dim=[int((h-kernel_shape[0]+1)/stride[0]),int((w-kernel_shape[1]+1)/stride[1])]\n",
        "  pooled_activation_map=np.zeros(op_dim[0]*op_dim[1]).reshape(op_dim[0],op_dim[1])\n",
        "  for i in range(op_dim[0]):\n",
        "          for j in range(op_dim[1]):\n",
        "              activation_patch=ExtractImgPatch(activation_map[:,:],i,j,kernel_shape[0],kernel_shape[1],stride)\n",
        "              pooled_activation_map[i,j]=Pool(activation_patch,pooling_fn)\n",
        "  if display:            \n",
        "    plt.imshow(Rescale(pooled_activation_map))\n",
        "  return pooled_activation_map "
      ],
      "metadata": {
        "id": "P9kzbZeKRWRn"
      },
      "execution_count": null,
      "outputs": []
    },
    {
      "cell_type": "code",
      "source": [
        "plt.imshow(activation_map)"
      ],
      "metadata": {
        "colab": {
          "base_uri": "https://localhost:8080/",
          "height": 284
        },
        "id": "Xk25QzOOrtFR",
        "outputId": "56b9df3a-5898-4de1-bbb0-131012c128d2"
      },
      "execution_count": null,
      "outputs": [
        {
          "output_type": "execute_result",
          "data": {
            "text/plain": [
              "<matplotlib.image.AxesImage at 0x7f9256058710>"
            ]
          },
          "metadata": {},
          "execution_count": 29
        },
        {
          "output_type": "display_data",
          "data": {
            "text/plain": [
              "<Figure size 432x288 with 1 Axes>"
            ],
            "image/png": "[encoded data removed]"
          },
          "metadata": {
            "needs_background": "light"
          }
        }
      ]
    },
    {
      "cell_type": "code",
      "source": [
        "pooled_activation_map=Pooling(activation_map,k1.shape,[3,3])"
      ],
      "metadata": {
        "colab": {
          "base_uri": "https://localhost:8080/",
          "height": 269
        },
        "id": "SQTwHmCVLtni",
        "outputId": "8b161be6-c85f-45b9-edfd-e750256d51e4"
      },
      "execution_count": null,
      "outputs": [
        {
          "output_type": "display_data",
          "data": {
            "text/plain": [
              "<Figure size 432x288 with 1 Axes>"
            ],
            "image/png": "[encoded data removed]"
          },
          "metadata": {
            "needs_background": "light"
          }
        }
      ]
    },
    {
      "cell_type": "code",
      "source": [
        "pooled_activation_map=Pooling(activation_map,k1.shape,[3,3],'min')"
      ],
      "metadata": {
        "colab": {
          "base_uri": "https://localhost:8080/",
          "height": 269
        },
        "id": "Gu_xq5ZGM1sR",
        "outputId": "168a18e6-5980-4c9d-bee6-b76fdbdd1088"
      },
      "execution_count": null,
      "outputs": [
        {
          "output_type": "display_data",
          "data": {
            "text/plain": [
              "<Figure size 432x288 with 1 Axes>"
            ],
            "image/png": "[encoded data removed]"
          },
          "metadata": {
            "needs_background": "light"
          }
        }
      ]
    },
    {
      "cell_type": "code",
      "source": [
        "pooled_activation_map=Pooling(activation_map,k1.shape,[3,3],'avg')"
      ],
      "metadata": {
        "colab": {
          "base_uri": "https://localhost:8080/",
          "height": 269
        },
        "id": "jAF3aaUUM7mW",
        "outputId": "fb6cd82e-27c2-4645-b64f-68f33d922bca"
      },
      "execution_count": null,
      "outputs": [
        {
          "output_type": "display_data",
          "data": {
            "text/plain": [
              "<Figure size 432x288 with 1 Axes>"
            ],
            "image/png": "[encoded data removed]"
          },
          "metadata": {
            "needs_background": "light"
          }
        }
      ]
    },
    {
      "cell_type": "markdown",
      "source": [
        "#Convolution layer function:"
      ],
      "metadata": {
        "id": "ItSfgQTDRZJg"
      }
    },
    {
      "cell_type": "markdown",
      "source": [
        "It accepts as input a volume (image or activation maps), filter kernels,\n",
        "stride, padding and the non-linear function. The function must convolve the input volume (after\n",
        "padding if specified) with each of the kernels (at the specified stride size) and generates an output\n",
        "activation volume after applying the specified non-linearity. Display the input image or activation\n",
        "maps, the filter kernels and the output activation maps. Verify that the output of this function does\n",
        "indeed have the expected size (W × H × C) as discussed in class. (1)"
      ],
      "metadata": {
        "id": "ayPU7-dhRdJR"
      }
    },
    {
      "cell_type": "code",
      "source": [
        "def ConvolutionLayer(volume,kernels,stride,padding=[0,0],non_linear_fn='tanh',display=True):\n",
        "  if display:\n",
        "    plt.imshow(volume)  \n",
        "    plt.show()\n",
        "  for i in range(len(kernels)):\n",
        "      activation_map=Convolution(volume,kernels[i],stride,padding,non_linear_fn,display=False)\n",
        "      if i == 0:\n",
        "        h,w=activation_map.shape\n",
        "        activation_volume=np.zeros(h*w*len(kernels)).reshape(h,w,len(kernels))\n",
        "      activation_volume[:,:,i]=activation_map \n",
        "  if display:      \n",
        "   plt.imshow(activation_volume)  \n",
        "   plt.show()    \n",
        "  return activation_volume       "
      ],
      "metadata": {
        "id": "cTm1T4VaRg55"
      },
      "execution_count": null,
      "outputs": []
    },
    {
      "cell_type": "code",
      "source": [
        "activation_vol=ConvolutionLayer(image_data,kernels=[k1,k1,k1],stride=[2,2],non_linear_fn='tanh')"
      ],
      "metadata": {
        "colab": {
          "base_uri": "https://localhost:8080/",
          "height": 552
        },
        "id": "stjv3LOV4_Jj",
        "outputId": "037bc6c8-6994-4cfa-b39b-239a1d58b694"
      },
      "execution_count": null,
      "outputs": [
        {
          "output_type": "display_data",
          "data": {
            "text/plain": [
              "<Figure size 432x288 with 1 Axes>"
            ],
            "image/png": "[encoded data removed]"
          },
          "metadata": {
            "needs_background": "light"
          }
        },
        {
          "output_type": "stream",
          "name": "stderr",
          "text": [
            "Clipping input data to the valid range for imshow with RGB data ([0..1] for floats or [0..255] for integers).\n"
          ]
        },
        {
          "output_type": "display_data",
          "data": {
            "text/plain": [
              "<Figure size 432x288 with 1 Axes>"
            ],
            "image/png": "[encoded data removed]"
          },
          "metadata": {
            "needs_background": "light"
          }
        }
      ]
    },
    {
      "cell_type": "markdown",
      "source": [
        "#Pooling layer function:"
      ],
      "metadata": {
        "id": "AtoYSAzsRhW-"
      }
    },
    {
      "cell_type": "markdown",
      "source": [
        "It accepts as input the activation map volume, the pooling function, stride,\n",
        "and generates a pooled output volume. Display the input and output volumes."
      ],
      "metadata": {
        "id": "JZCEFGXwRijy"
      }
    },
    {
      "cell_type": "code",
      "source": [
        "def PoolingLayer(activation_volume,kernel_shape,stride,pooling_fn='max',display=True):\n",
        "   h,w,channels=activation_volume.shape\n",
        "   if display:\n",
        "    plt.imshow(activation_volume)\n",
        "    plt.show()\n",
        "   for i in range(channels):\n",
        "      pooled_op= Pooling(activation_volume[:,:,i],kernel_shape,stride,pooling_fn,display)\n",
        "      if i == 0:\n",
        "        h,w=pooled_op.shape\n",
        "        pooling_volume=np.zeros(h*w*channels).reshape(h,w,channels)\n",
        "      pooling_volume[:,:,i]=pooled_op\n",
        "   if display:    \n",
        "    plt.imshow(pooling_volume)\n",
        "    plt.show()\n",
        "   return pooling_volume"
      ],
      "metadata": {
        "id": "H_2pP3j2RqFE"
      },
      "execution_count": null,
      "outputs": []
    },
    {
      "cell_type": "code",
      "source": [
        "pooled_volume=PoolingLayer(activation_vol,[2,3],[2,2],'max')"
      ],
      "metadata": {
        "colab": {
          "base_uri": "https://localhost:8080/",
          "height": 569
        },
        "id": "-IjDs8wn_sOd",
        "outputId": "66d17889-cec4-4b49-cf51-4590d9b98d8c"
      },
      "execution_count": null,
      "outputs": [
        {
          "output_type": "stream",
          "name": "stderr",
          "text": [
            "Clipping input data to the valid range for imshow with RGB data ([0..1] for floats or [0..255] for integers).\n"
          ]
        },
        {
          "output_type": "display_data",
          "data": {
            "text/plain": [
              "<Figure size 432x288 with 1 Axes>"
            ],
            "image/png": "[encoded data removed]"
          },
          "metadata": {
            "needs_background": "light"
          }
        },
        {
          "output_type": "stream",
          "name": "stderr",
          "text": [
            "Clipping input data to the valid range for imshow with RGB data ([0..1] for floats or [0..255] for integers).\n"
          ]
        },
        {
          "output_type": "display_data",
          "data": {
            "text/plain": [
              "<Figure size 432x288 with 1 Axes>"
            ],
            "image/png": "[encoded data removed]"
          },
          "metadata": {
            "needs_background": "light"
          }
        }
      ]
    },
    {
      "cell_type": "markdown",
      "source": [
        "#Flattening (unraveling) function:"
      ],
      "metadata": {
        "id": "Q8hUH6XQRwsg"
      }
    },
    {
      "cell_type": "markdown",
      "source": [
        "It accepts as input the activation map volume output by the pooling layer and generates a vector of a specified size. It is important to note that this function has a\n",
        "weight matrix associated with it whose size is chosen such that the input and desired output sizes are\n",
        "matched."
      ],
      "metadata": {
        "id": "Ft35vYxoRyDa"
      }
    },
    {
      "cell_type": "code",
      "source": [
        "def Flattening(activation_vol,size):\n",
        "  bottleneck_vector=np.array(activation_vol).flatten()\n",
        "  weight_matrix=np.random.random((len(bottleneck_vector),size))\n",
        "  bottleneck_vector=np.matmul(bottleneck_vector,weight_matrix)\n",
        "  return bottleneck_vector"
      ],
      "metadata": {
        "id": "ezTynHxKR2Gw"
      },
      "execution_count": null,
      "outputs": []
    },
    {
      "cell_type": "code",
      "source": [
        "bottleneck_vector=Flattening(activation_vol,10)"
      ],
      "metadata": {
        "id": "IRtFTzAYb6Tp"
      },
      "execution_count": null,
      "outputs": []
    },
    {
      "cell_type": "markdown",
      "source": [
        "#Multilayer Perceptron (MLP) function (Fully Connected):"
      ],
      "metadata": {
        "id": "vI2P0kijR2jm"
      }
    },
    {
      "cell_type": "markdown",
      "source": [
        "It accepts as input a vector, the number of\n",
        "hidden layers, the size of each hidden layer, the non-linear function, and the size of the output layer.\n",
        "This function should generate an output vector of the specified size. Generate the output with and\n",
        "without the softmax function applied to the output layer. (2)"
      ],
      "metadata": {
        "id": "IG4UZAInR6xp"
      }
    },
    {
      "cell_type": "code",
      "source": [
        "def softmax(op):\n",
        "  probabilities=np.exp(op)/np.sum(np.exp(op))\n",
        "  return probabilities    "
      ],
      "metadata": {
        "id": "alllsSHD6Kdz"
      },
      "execution_count": null,
      "outputs": []
    },
    {
      "cell_type": "code",
      "source": [
        "def MLP(vector,number_hidden_layers,sizes,non_linear_fn,op,apply_softmax_op=True):\n",
        "  ip_vector=vector.copy()\n",
        "  for i in range(number_hidden_layers):\n",
        "      op_size=sizes[i]\n",
        "      weight_vector=np.random.random((len(ip_vector),op_size))\n",
        "      input=np.matmul(ip_vector,weight_vector)\n",
        "      ip_vector=np.zeros(len(input))\n",
        "      for i in range(len(input)):\n",
        "        ip_vector[i]=Activationfn(input[i],non_linear_fn)\n",
        "  weight_vector=np.random.random((len(ip_vector),op))\n",
        "  output=np.matmul(ip_vector,weight_vector) \n",
        "  output_vector=np.zeros(len(output))\n",
        "  if apply_softmax_op:\n",
        "    output_vector=softmax(np.array(output))\n",
        "    return output_vector \n",
        "  else:\n",
        "    return output    "
      ],
      "metadata": {
        "id": "NMnJ5nT6R9oP"
      },
      "execution_count": null,
      "outputs": []
    },
    {
      "cell_type": "code",
      "source": [
        "len(bottleneck_vector)"
      ],
      "metadata": {
        "colab": {
          "base_uri": "https://localhost:8080/"
        },
        "id": "iSHBMC1z7SAY",
        "outputId": "11b27a42-7185-4913-e734-4d5fe969fad0"
      },
      "execution_count": null,
      "outputs": [
        {
          "output_type": "execute_result",
          "data": {
            "text/plain": [
              "10"
            ]
          },
          "metadata": {},
          "execution_count": 63
        }
      ]
    },
    {
      "cell_type": "markdown",
      "source": [
        "Output vector without softmax "
      ],
      "metadata": {
        "id": "Rb7iAaN86uxy"
      }
    },
    {
      "cell_type": "code",
      "source": [
        "op_vector=MLP(bottleneck_vector,1,[10],'sigmoid',10,False)"
      ],
      "metadata": {
        "id": "Rret3VfZnzJ_"
      },
      "execution_count": null,
      "outputs": []
    },
    {
      "cell_type": "code",
      "source": [
        "op_vector"
      ],
      "metadata": {
        "colab": {
          "base_uri": "https://localhost:8080/"
        },
        "id": "yF92Y4hVoHwC",
        "outputId": "04d85ec6-f301-4111-c710-7f609d0f9d16"
      },
      "execution_count": null,
      "outputs": [
        {
          "output_type": "execute_result",
          "data": {
            "text/plain": [
              "array([2.59320072, 6.22257054, 5.39356468, 4.89147185, 4.76073626,\n",
              "       5.29706516, 5.43820457, 3.42023231, 3.17401586, 5.82750694])"
            ]
          },
          "metadata": {},
          "execution_count": 65
        }
      ]
    },
    {
      "cell_type": "markdown",
      "source": [
        "Output vector with softmax"
      ],
      "metadata": {
        "id": "AvXI7Wo0619r"
      }
    },
    {
      "cell_type": "code",
      "source": [
        "op_vector=MLP(bottleneck_vector,1,[10],'sigmoid',10)"
      ],
      "metadata": {
        "id": "omWzDIOL7JCe"
      },
      "execution_count": null,
      "outputs": []
    },
    {
      "cell_type": "code",
      "source": [
        "op_vector"
      ],
      "metadata": {
        "colab": {
          "base_uri": "https://localhost:8080/"
        },
        "id": "yBrWJVJr7Ydf",
        "outputId": "0eff95e3-1685-497b-aed3-11a7faeee5be"
      },
      "execution_count": null,
      "outputs": [
        {
          "output_type": "execute_result",
          "data": {
            "text/plain": [
              "array([0.05139536, 0.0823817 , 0.08344949, 0.05409957, 0.19328849,\n",
              "       0.15520138, 0.25616551, 0.06028663, 0.04121094, 0.02252094])"
            ]
          },
          "metadata": {},
          "execution_count": 67
        }
      ]
    },
    {
      "cell_type": "markdown",
      "source": [
        "Output vectors with softmax are probabilities"
      ],
      "metadata": {
        "id": "uhyFBbAC8S6s"
      }
    },
    {
      "cell_type": "markdown",
      "source": [
        "#Feed-forward path:"
      ],
      "metadata": {
        "id": "sNmtH_K7SBg5"
      }
    },
    {
      "cell_type": "markdown",
      "source": [
        "Finally, use the functions you have written to implement a CNN with the follow-\n",
        "ing architecture. The CNN must accept an image input and output a vector of appropriate dimension.\n",
        "\n",
        "In other words, the function must effectively implement the feed-forward path in a CNN. (3)\n",
        "• Input image of size 32 × 32 × 3. Use images from the CIFAR-10 dataset.\n",
        "• Convolution layer with 16 kernels of size 3 × 3 × 3 and sigmoid activation.\n",
        "• Max pooling layer of size 2 × 2 with a stride of 2 along each dimension.\n",
        "• Convolution layer with 8 kernels of size 3 × 3 × C2 and sigmoid activation. What is the value of\n",
        "C2?.\n",
        "• Max pooling layer of size 2 × 2 with a stride of 2 along each dimension.\n",
        "• A flattening layer. Note that the input size is fixed by the previous layer’s output. Your flattening\n",
        "matrix can be square, tall, or fat. Any choice is fine for this problem. Pick any one.\n",
        "• An MLP with one hidden layer that accepts as input the flattening layer output and maps it to\n",
        "10 output nodes. Use sigmoid activation for the MLP."
      ],
      "metadata": {
        "id": "bxFrlyNMSC77"
      }
    },
    {
      "cell_type": "markdown",
      "source": [
        "Verify that your composition of function accepts and image input and outputs a vector."
      ],
      "metadata": {
        "id": "8-epXMZnSL65"
      }
    },
    {
      "cell_type": "code",
      "source": [
        "def FeedForward(image,mlp=True):\n",
        "  kernels=[]\n",
        "  for i in range(16):\n",
        "    kernels.append(np.random.random((3,3,3)))\n",
        "  activation_maps=ConvolutionLayer(image,kernels,stride=[1,1],padding=[0,0],non_linear_fn='sigmoid',display=False)\n",
        "  pooled_activation_volume=PoolingLayer(activation_maps,[3,3],[1,1],display=False)\n",
        "  kernels.clear()\n",
        "  for i in range(8):\n",
        "    kernels.append(np.random.random((3,3,16)))\n",
        "  activation_maps=ConvolutionLayer(pooled_activation_volume,kernels,stride=[1,1],padding=[0,0],non_linear_fn='sigmoid',display=False)\n",
        "  pooled_activation_maps=PoolingLayer(activation_maps,[3,3],[1,1],display=False)\n",
        "  flattened_op=Flattening(pooled_activation_map,10)\n",
        "  if mlp:\n",
        "    op_vector=MLP(flattened_op,1,[10],'sigmoid',10)\n",
        "    return op_vector\n",
        "  else:\n",
        "    return flattened_op  "
      ],
      "metadata": {
        "id": "c2cKXUd2SG13"
      },
      "execution_count": null,
      "outputs": []
    },
    {
      "cell_type": "code",
      "source": [
        "o=FeedForward(image_data)"
      ],
      "metadata": {
        "id": "Q60ZXFs61NyH"
      },
      "execution_count": null,
      "outputs": []
    },
    {
      "cell_type": "code",
      "source": [
        "np.argmax(o)"
      ],
      "metadata": {
        "colab": {
          "base_uri": "https://localhost:8080/"
        },
        "id": "iANayLab-cZa",
        "outputId": "c04768e7-e296-4f56-a028-7cb403f0fee6"
      },
      "execution_count": null,
      "outputs": [
        {
          "output_type": "execute_result",
          "data": {
            "text/plain": [
              "8"
            ]
          },
          "metadata": {},
          "execution_count": 83
        }
      ]
    },
    {
      "cell_type": "markdown",
      "source": [
        "#Choose an image from each of the 10 classes and display the output vector for each case. Do you see any trend in the output vectors? (1)"
      ],
      "metadata": {
        "id": "zUcL27aPSHR1"
      }
    },
    {
      "cell_type": "code",
      "source": [
        "image,image_data=ReadImage('airplane1.png')\n",
        "op_vec=FeedForward(image_data)\n",
        "print(op_vec)\n",
        "np.argmax(op_vec)"
      ],
      "metadata": {
        "colab": {
          "base_uri": "https://localhost:8080/"
        },
        "id": "jfGkNbL__Oub",
        "outputId": "0a3531bd-b7ae-471d-fb80-085d0ec15a2c"
      },
      "execution_count": null,
      "outputs": [
        {
          "output_type": "stream",
          "name": "stdout",
          "text": [
            "[0.07374406 0.07115086 0.07437058 0.03013537 0.00644599 0.45888848\n",
            " 0.01109162 0.04086601 0.04579092 0.1875161 ]\n"
          ]
        },
        {
          "output_type": "execute_result",
          "data": {
            "text/plain": [
              "5"
            ]
          },
          "metadata": {},
          "execution_count": 95
        }
      ]
    },
    {
      "cell_type": "code",
      "source": [
        "image,image_data=ReadImage('automobile1.png')\n",
        "op_vec=FeedForward(image_data)\n",
        "print(op_vec)\n",
        "np.argmax(op_vec)"
      ],
      "metadata": {
        "colab": {
          "base_uri": "https://localhost:8080/"
        },
        "id": "euD0umXkS7Gn",
        "outputId": "56c42556-1d2e-4700-ff9b-154a08be220e"
      },
      "execution_count": null,
      "outputs": [
        {
          "output_type": "stream",
          "name": "stdout",
          "text": [
            "[0.03471946 0.02278123 0.01736025 0.13913406 0.08145684 0.0932777\n",
            " 0.03469038 0.30033503 0.22275783 0.05348721]\n"
          ]
        },
        {
          "output_type": "execute_result",
          "data": {
            "text/plain": [
              "7"
            ]
          },
          "metadata": {},
          "execution_count": 86
        }
      ]
    },
    {
      "cell_type": "code",
      "source": [
        "image,image_data=ReadImage('bird1.png')\n",
        "op_vec=FeedForward(image_data)\n",
        "print(op_vec)\n",
        "np.argmax(op_vec)"
      ],
      "metadata": {
        "id": "uREHTzNnSZWe",
        "colab": {
          "base_uri": "https://localhost:8080/"
        },
        "outputId": "670be4c9-83ea-46e1-d41f-abce1764dfa0"
      },
      "execution_count": null,
      "outputs": [
        {
          "output_type": "stream",
          "name": "stdout",
          "text": [
            "[0.09197922 0.05373668 0.28936979 0.1617684  0.03027733 0.01756334\n",
            " 0.04493072 0.07676173 0.11377552 0.11983727]\n"
          ]
        },
        {
          "output_type": "execute_result",
          "data": {
            "text/plain": [
              "2"
            ]
          },
          "metadata": {},
          "execution_count": 87
        }
      ]
    },
    {
      "cell_type": "code",
      "source": [
        "image,image_data=ReadImage('cat1.png')\n",
        "op_vec=FeedForward(image_data)\n",
        "print(op_vec)\n",
        "np.argmax(op_vec)"
      ],
      "metadata": {
        "colab": {
          "base_uri": "https://localhost:8080/"
        },
        "id": "__MzJ-dQWgQm",
        "outputId": "60b6ef0d-871b-4b93-cc0b-ca2afc13a7e5"
      },
      "execution_count": null,
      "outputs": [
        {
          "output_type": "stream",
          "name": "stdout",
          "text": [
            "[0.05025242 0.13357573 0.06139736 0.06452387 0.14199658 0.00611081\n",
            " 0.02153446 0.23697281 0.06318841 0.22044755]\n"
          ]
        },
        {
          "output_type": "execute_result",
          "data": {
            "text/plain": [
              "7"
            ]
          },
          "metadata": {},
          "execution_count": 88
        }
      ]
    },
    {
      "cell_type": "code",
      "source": [
        "image,image_data=ReadImage('deer1.png')\n",
        "op_vec=FeedForward(image_data)\n",
        "print(op_vec)\n",
        "np.argmax(op_vec)"
      ],
      "metadata": {
        "colab": {
          "base_uri": "https://localhost:8080/"
        },
        "id": "A3EkxVwYWhEi",
        "outputId": "d59b4f7e-fafc-4927-9017-c05b22bf7764"
      },
      "execution_count": null,
      "outputs": [
        {
          "output_type": "stream",
          "name": "stdout",
          "text": [
            "[0.11719123 0.13194998 0.04322527 0.05828256 0.03506791 0.03726997\n",
            " 0.31672295 0.16758579 0.04857227 0.04413207]\n"
          ]
        },
        {
          "output_type": "execute_result",
          "data": {
            "text/plain": [
              "6"
            ]
          },
          "metadata": {},
          "execution_count": 89
        }
      ]
    },
    {
      "cell_type": "code",
      "source": [
        "image,image_data=ReadImage('dog1.png')\n",
        "op_vec=FeedForward(image_data)\n",
        "print(op_vec)\n",
        "np.argmax(op_vec)"
      ],
      "metadata": {
        "colab": {
          "base_uri": "https://localhost:8080/"
        },
        "id": "rfC7FILTWhoa",
        "outputId": "4e84e3dc-7f54-4e7f-f7ad-e6666ce7cb66"
      },
      "execution_count": null,
      "outputs": [
        {
          "output_type": "stream",
          "name": "stdout",
          "text": [
            "[0.0714306  0.04803331 0.11849459 0.29738941 0.01883015 0.06457583\n",
            " 0.04840699 0.23869819 0.05728448 0.03685646]\n"
          ]
        },
        {
          "output_type": "execute_result",
          "data": {
            "text/plain": [
              "3"
            ]
          },
          "metadata": {},
          "execution_count": 90
        }
      ]
    },
    {
      "cell_type": "code",
      "source": [
        "image,image_data=ReadImage('frog1.png')\n",
        "op_vec=FeedForward(image_data)\n",
        "print(op_vec)\n",
        "np.argmax(op_vec)"
      ],
      "metadata": {
        "colab": {
          "base_uri": "https://localhost:8080/"
        },
        "id": "LHW0C8EZWiwK",
        "outputId": "455c3370-4007-4f19-fa43-08ceebeda2ac"
      },
      "execution_count": null,
      "outputs": [
        {
          "output_type": "stream",
          "name": "stdout",
          "text": [
            "[0.24511397 0.09934547 0.04112861 0.11789438 0.01660852 0.03669242\n",
            " 0.18541264 0.0255755  0.09525449 0.13697399]\n"
          ]
        },
        {
          "output_type": "execute_result",
          "data": {
            "text/plain": [
              "0"
            ]
          },
          "metadata": {},
          "execution_count": 91
        }
      ]
    },
    {
      "cell_type": "code",
      "source": [
        "image,image_data=ReadImage('horse1.png')\n",
        "op_vec=FeedForward(image_data)\n",
        "print(op_vec)\n",
        "np.argmax(op_vec)"
      ],
      "metadata": {
        "colab": {
          "base_uri": "https://localhost:8080/"
        },
        "id": "NMWE_hE3Wmwq",
        "outputId": "946a76a7-d495-473c-8089-eb61d7627025"
      },
      "execution_count": null,
      "outputs": [
        {
          "output_type": "stream",
          "name": "stdout",
          "text": [
            "[0.05402967 0.29909725 0.05463152 0.04500621 0.02905147 0.04982135\n",
            " 0.02645541 0.13613787 0.14607409 0.15969516]\n"
          ]
        },
        {
          "output_type": "execute_result",
          "data": {
            "text/plain": [
              "1"
            ]
          },
          "metadata": {},
          "execution_count": 92
        }
      ]
    },
    {
      "cell_type": "code",
      "source": [
        "image,image_data=ReadImage('ship1.png')\n",
        "op_vec=FeedForward(image_data)\n",
        "print(op_vec)\n",
        "np.argmax(op_vec)"
      ],
      "metadata": {
        "colab": {
          "base_uri": "https://localhost:8080/"
        },
        "id": "w_Uc729AWpbQ",
        "outputId": "b7ab7c4d-5005-4087-9cd4-87a3511e59af"
      },
      "execution_count": null,
      "outputs": [
        {
          "output_type": "stream",
          "name": "stdout",
          "text": [
            "[0.02378988 0.02448366 0.06129807 0.12680108 0.33421686 0.04366102\n",
            " 0.05998721 0.10847263 0.10874015 0.10854945]\n"
          ]
        },
        {
          "output_type": "execute_result",
          "data": {
            "text/plain": [
              "4"
            ]
          },
          "metadata": {},
          "execution_count": 93
        }
      ]
    },
    {
      "cell_type": "code",
      "source": [
        "image,image_data=ReadImage('truck1.png')\n",
        "op_vec=FeedForward(image_data)\n",
        "print(op_vec)\n",
        "np.argmax(op_vec)"
      ],
      "metadata": {
        "colab": {
          "base_uri": "https://localhost:8080/"
        },
        "id": "LR-Qkl_aWqM2",
        "outputId": "fa2ed64b-88a9-4aa6-adb8-0e54be4e9352"
      },
      "execution_count": null,
      "outputs": [
        {
          "output_type": "stream",
          "name": "stdout",
          "text": [
            "[0.0904225  0.08227459 0.14948214 0.02026868 0.02511442 0.01103918\n",
            " 0.06528152 0.39881627 0.12874933 0.02855136]\n"
          ]
        },
        {
          "output_type": "execute_result",
          "data": {
            "text/plain": [
              "7"
            ]
          },
          "metadata": {},
          "execution_count": 94
        }
      ]
    },
    {
      "cell_type": "markdown",
      "source": [
        "*We can clearly notice from that the output vectors are probabilities of the image falling into a particular class.* \n",
        "\n",
        "*The above vector shows that airplane,automobile, bird,deer, dog, frog,horse, sheep all are being predicted to be in different classes.*\n",
        "\n",
        "*Whereas automobile,truck and dog are falling into the same class.*\n",
        "\n",
        "*This shows that even in a single forward pass network is able to discriminate among most of the classes.*\n",
        "\n",
        "*With successive forward passes and backpropogation methods network can slowly learn to distinguish between classes very clearly.*"
      ],
      "metadata": {
        "id": "toyfLpy1_YB1"
      }
    },
    {
      "cell_type": "markdown",
      "source": [
        "#Does a randomly initialized network show any discriminability? Visualize the bottleneck layer(output of flattening layer) using builtin tSNE plots. Choose three images per class. If you are wondering about this question, check out the Deep Image Prior paper."
      ],
      "metadata": {
        "id": "xuYJQ670SaF_"
      }
    },
    {
      "cell_type": "code",
      "source": [
        "def datasamples():\n",
        "  d1=['airplane1.png','automobile1.png','bird1.png','cat1.png','deer1.png','dog1.png','frog1.png','horse1.png','ship1.png','truck1.png',\n",
        "      'airplane2.png','automobile2.png','bird2.png','cat2.png','deer2.png','dog2.png','frog2.png','horse2.png','ship2.png','truck2.png',\n",
        "      'airplane3.png','automobile3.png','bird3.png','cat3.png','deer3.png','dog3.png','frog3.png','horse3.png','ship3.png','truck3.png']\n",
        "  datasamples=[ ]\n",
        "  for i in range(len(d1)):\n",
        "     image,image_data=ReadImage(d1[i])\n",
        "     bottleneck_vector=FeedForward(image_data,mlp=False)\n",
        "     datasamples.append(bottleneck_vector)\n",
        "  return np.array(datasamples)   "
      ],
      "metadata": {
        "id": "BSN02Rf3n6xV"
      },
      "execution_count": null,
      "outputs": []
    },
    {
      "cell_type": "code",
      "source": [
        "ds=datasamples()"
      ],
      "metadata": {
        "id": "QfRuKPMJq2cE"
      },
      "execution_count": null,
      "outputs": []
    },
    {
      "cell_type": "code",
      "source": [
        "from sklearn.manifold import TSNE\n",
        "tsne = TSNE(n_components=2, random_state=0,perplexity=3)\n",
        "samples_2d = tsne.fit_transform(ds)\n",
        "classes = range(10)\n",
        "labels=[0,1,2,3,4,5,6,7,8,9]\n",
        "colors = 'r', 'g', 'b', 'c', 'm', 'y', 'k', 'w', 'orange', 'purple'\n",
        "for i in range(len(samples_2d)):\n",
        "     plt.scatter(samples_2d[i, 0], samples_2d[i, 1], c=colors[i%10], label=labels[i%10])\n",
        "plt.show()"
      ],
      "metadata": {
        "id": "aZ2waUJrSir-",
        "colab": {
          "base_uri": "https://localhost:8080/",
          "height": 358
        },
        "outputId": "15a3a12a-03af-438c-ca30-e1af67c2e750"
      },
      "execution_count": null,
      "outputs": [
        {
          "output_type": "stream",
          "name": "stderr",
          "text": [
            "/usr/local/lib/python3.7/dist-packages/sklearn/manifold/_t_sne.py:783: FutureWarning: The default initialization in TSNE will change from 'random' to 'pca' in 1.2.\n",
            "  FutureWarning,\n",
            "/usr/local/lib/python3.7/dist-packages/sklearn/manifold/_t_sne.py:793: FutureWarning: The default learning rate in TSNE will change from 200.0 to 'auto' in 1.2.\n",
            "  FutureWarning,\n"
          ]
        },
        {
          "output_type": "display_data",
          "data": {
            "text/plain": [
              "<Figure size 432x288 with 1 Axes>"
            ],
            "image/png": "[encoded data removed]"
          },
          "metadata": {
            "needs_background": "light"
          }
        }
      ]
    },
    {
      "cell_type": "markdown",
      "source": [
        "*Plot shows two dimesional representation of the flattened vectors that we get from a forward pass of the network*"
      ],
      "metadata": {
        "id": "4Bz5bW_-AxpT"
      }
    },
    {
      "cell_type": "markdown",
      "source": [
        "*Randomly intialized weights does not show discriminability that can be observed from the plot all the weights in the network are randomly initialized and we can observe that in with a single feed forward pass model is not able to discrimate between the classes and form separate clusters based on the flattened output.*"
      ],
      "metadata": {
        "id": "urGXls6ZEHJe"
      }
    }
  ]
}